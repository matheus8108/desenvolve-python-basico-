{
 "cells": [
  {
   "cell_type": "code",
   "execution_count": null,
   "metadata": {},
   "outputs": [],
   "source": [
    "numero1=float(input(\"Digite o numero 1\"))\n",
    "numero2=float(input(\"Digite o numero 2\"))\n",
    "diferenca_absoluta = abs(numero1 - numero2)\n",
    "diferenca_arredondada = round(diferenca_absoluta, 2)\n",
    "print(\"A diferensa é:\",diferenca_arredondada)"
   ]
  },
  {
   "cell_type": "code",
   "execution_count": null,
   "metadata": {},
   "outputs": [],
   "source": [
    "import random\n",
    "import math\n",
    "\n",
    "n=int(input())\n",
    "soma=0\n",
    "for i in range(n)\n",
    "    soma=soma+random.randint(0,100)  "
   ]
  },
  {
   "cell_type": "code",
   "execution_count": null,
   "metadata": {},
   "outputs": [],
   "source": [
    "import random\n",
    "\n",
    "def adivinhe_o_numero():\n",
    "    numero_secreto = random.randint(1, 10)\n",
    "    acertou = False\n",
    "\n",
    "    print(\"Adivinhe o número entre 1 e 10:\")\n",
    "    \n",
    "    while not acertou:\n",
    "        chute = int(input(\"Seu palpite: \"))\n",
    "        \n",
    "        if chute < numero_secreto:\n",
    "            print(\"Muito baixo, tente novamente!\")\n",
    "        elif palpite > numero_secreto:\n",
    "            print(\"Muito alto, tente novamente!\")\n",
    "        else:\n",
    "            print(f\"Correto! O número é {numero_secreto}.\")\n",
    "            acertou = True\n",
    "\n",
    "adivinhe_o_numero()\n"
   ]
  },
  {
   "cell_type": "code",
   "execution_count": null,
   "metadata": {},
   "outputs": [],
   "source": [
    "from datetime import datetime\n",
    "\n",
    "# Obter a data e hora atuais\n",
    "data_hora_atual = datetime.now()//..\n",
    "\n",
    "# Formatar a data e hora conforme especificado\n",
    "data_formatada = data_hora_atual.strftime(\"Data: %d/%m/%Y\")\n",
    "hora_formatada = data_hora_atual.strftime(\"Hora: %H:%M\")\n",
    "\n",
    "# Exibir a data e hora formatadas\n",
    "print(data_formatada)\n",
    "print(hora_formatada)\n"
   ]
  }
 ],
 "metadata": {
  "language_info": {
   "name": "python"
  }
 },
 "nbformat": 4,
 "nbformat_minor": 2
}
