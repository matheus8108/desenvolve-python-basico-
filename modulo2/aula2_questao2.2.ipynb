{
 "cells": [
  {
   "cell_type": "code",
   "execution_count": 9,
   "metadata": {},
   "outputs": [
    {
     "name": "stdout",
     "output_type": "stream",
     "text": [
      "<class 'int'>\n",
      "<class 'int'>\n",
      "2.5\n",
      "<class 'float'>\n"
     ]
    }
   ],
   "source": [
    "x=5\n",
    "y=2\n",
    "type(x)\n",
    "type(y)\n",
    "print(type(x))\n",
    "print(type(y))\n",
    "z=(x/y)\n",
    "print(z)\n",
    "print(type(z))"
   ]
  },
  {
   "cell_type": "code",
   "execution_count": 13,
   "metadata": {},
   "outputs": [
    {
     "name": "stdout",
     "output_type": "stream",
     "text": [
      "o resultado é\n",
      "<class 'str'>\n",
      "10\n",
      "<class 'int'>\n",
      "3.5\n",
      "<class 'float'>\n",
      "13.5\n",
      "<class 'float'>\n"
     ]
    }
   ],
   "source": [
    "x=(\"o resultado é\")\n",
    "y=10\n",
    "z=3.5\n",
    "v=y+z\n",
    "print(x)\n",
    "print(type(x))\n",
    "print(y)\n",
    "print(type(y))\n",
    "print(z)\n",
    "print(type(z))\n",
    "print(v)\n",
    "print(type(v))\n",
    "\n"
   ]
  },
  {
   "cell_type": "code",
   "execution_count": 14,
   "metadata": {},
   "outputs": [
    {
     "name": "stdout",
     "output_type": "stream",
     "text": [
      "20\n",
      "<class 'int'>\n",
      "10\n",
      "<class 'int'>\n",
      "(20, 10)\n",
      "<class 'tuple'>\n"
     ]
    }
   ],
   "source": [
    "v1=10\n",
    "v2=20\n",
    "v3=v1,v2=v2,v1\n",
    "print(v1)\n",
    "print(type(v1))\n",
    "print(v2)\n",
    "print(type(v2))\n",
    "print(v3)\n",
    "print(type(v3))"
   ]
  },
  {
   "cell_type": "code",
   "execution_count": 19,
   "metadata": {},
   "outputs": [
    {
     "name": "stdout",
     "output_type": "stream",
     "text": [
      "1\n"
     ]
    }
   ],
   "source": [
    "lucro=1%500\n",
    "print(lucro)"
   ]
  },
  {
   "cell_type": "code",
   "execution_count": null,
   "metadata": {},
   "outputs": [],
   "source": []
  }
 ],
 "metadata": {
  "kernelspec": {
   "display_name": "Python 3",
   "language": "python",
   "name": "python3"
  },
  "language_info": {
   "codemirror_mode": {
    "name": "ipython",
    "version": 3
   },
   "file_extension": ".py",
   "mimetype": "text/x-python",
   "name": "python",
   "nbconvert_exporter": "python",
   "pygments_lexer": "ipython3",
   "version": "3.12.3"
  }
 },
 "nbformat": 4,
 "nbformat_minor": 2
}
