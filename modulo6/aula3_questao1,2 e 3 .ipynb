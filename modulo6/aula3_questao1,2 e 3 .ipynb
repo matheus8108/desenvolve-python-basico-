{
 "cells": [
  {
   "cell_type": "code",
   "execution_count": null,
   "metadata": {},
   "outputs": [],
   "source": [
    "#Questão 1\n",
    "numeros = []\n",
    "\n",
    "while len(numeros) < 4:\n",
    "    numeros.append(int(input(\"Digite um número inteiro: \")))\n",
    "\n",
    "print(\"Original:\", numeros)\n",
    "print(\"Primeiros 3:\", numeros[:3])\n",
    "print(\"Últimos 2:\", numeros[-2:])\n",
    "print(\"Invertida:\", numeros[::-1])\n",
    "print(\"Pares:\", numeros[::2])\n",
    "print(\"Ímpares:\", numeros[1::2])"
   ]
  },
  {
   "cell_type": "code",
   "execution_count": null,
   "metadata": {},
   "outputs": [],
   "source": [
    "#Questão 2\n",
    "urls = [\"www.google.com\", \"www.gmail.com\", \"www.github.com\", \"www.reddit.com\", \"www.yahoo.com\"]\n",
    "dominios = [url[4:-4] for url in urls]\n",
    "\n",
    "print(\"Domínios:\", dominios)"
   ]
  },
  {
   "cell_type": "code",
   "execution_count": null,
   "metadata": {},
   "outputs": [],
   "source": [
    "#Questão 3\n",
    "# Script 3\n",
    "import random\n",
    "\n",
    "lista = [random.randint(-10, 10) for _ in range(20)]\n",
    "print(\"Original:\", lista)\n",
    "\n",
    "for i in range(len(lista)-4):\n",
    "    intervalo = lista[i:i+5]\n",
    "    if intervalo.count(min(intervalo)) >= 5:\n",
    "        for num in intervalo:\n",
    "            lista.remove(num)\n",
    "        break\n",
    "\n",
    "print(\"Editada:\", lista)"
   ]
  }
 ],
 "metadata": {
  "language_info": {
   "name": "python"
  }
 },
 "nbformat": 4,
 "nbformat_minor": 2
}
