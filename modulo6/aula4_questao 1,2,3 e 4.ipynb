{
 "cells": [
  {
   "cell_type": "code",
   "execution_count": 1,
   "metadata": {},
   "outputs": [],
   "source": [
    "#Questão 1\n",
    "par=[n for n in range(20,51) if n % 2==0]\n",
    "quadrados=[n**2 for n in range(1,10)]\n",
    "dividiveis=[n for n in range(0,101) if n % 7==0]\n",
    "dividiveis=[\"Par\" if n % 2==0 else \"impar\" for n in range(0,30,3)]"
   ]
  },
  {
   "cell_type": "code",
   "execution_count": 1,
   "metadata": {},
   "outputs": [
    {
     "name": "stdout",
     "output_type": "stream",
     "text": [
      "Vogais: ['e', 'e', 'e', 'o', 'u']\n"
     ]
    }
   ],
   "source": [
    "#Questão 2\n",
    "frase=( input(\"digite uma frase\"))\n",
    "vogais=sorted([char for char in frase if char.lower() in 'aeiou'])\n",
    "print(\"Vogais:\", vogais)"
   ]
  },
  {
   "cell_type": "code",
   "execution_count": 3,
   "metadata": {},
   "outputs": [
    {
     "name": "stdout",
     "output_type": "stream",
     "text": [
      "Pagamento é: [800, 740, 925, 800, 800, 1000]\n"
     ]
    }
   ],
   "source": [
    "#Questão 3\n",
    "horas_trabalhadas=[40,37,45,40,40,48]\n",
    "ganho_por_hora=20\n",
    "hora_extra=25\n",
    "pagamentos=[ganho_por_hora* min(hora,40)+hora_extra* max(0, hora-40) for hora in horas_trabalhadas]\n",
    "print(\"Pagamento é:\", pagamentos)\n"
   ]
  },
  {
   "cell_type": "code",
   "execution_count": 6,
   "metadata": {},
   "outputs": [],
   "source": [
    "#questão 4\n",
    "alunos=[\"Maria\",\"Jose\",\"Carla\",\"Sol\"]\n",
    "notas=[35,50,20,80]\n",
    "aprovados=[alunos[i]for i in range(len(notas)) if notas[i] >= 60] \n"
   ]
  }
 ],
 "metadata": {
  "kernelspec": {
   "display_name": "Python 3",
   "language": "python",
   "name": "python3"
  },
  "language_info": {
   "codemirror_mode": {
    "name": "ipython",
    "version": 3
   },
   "file_extension": ".py",
   "mimetype": "text/x-python",
   "name": "python",
   "nbconvert_exporter": "python",
   "pygments_lexer": "ipython3",
   "version": "3.12.3"
  }
 },
 "nbformat": 4,
 "nbformat_minor": 2
}
