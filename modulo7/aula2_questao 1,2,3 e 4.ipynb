{
 "cells": [
  {
   "cell_type": "code",
   "execution_count": null,
   "metadata": {},
   "outputs": [],
   "source": [
    "def data_nascimento():\n",
    "    meses = [\"Janeiro\", \"Fevereiro\", \"Março\", \"Abril\", \"Maio\", \"Junho\", \"Julho\", \"Agosto\", \"Setembro\", \"Outubro\", \"Novembro\", \"Dezembro\"]\n",
    "    data = input(\"Digite uma data de nascimento (dd/mm/aaaa): \")\n",
    "    dia, mes, ano = data.split('/')\n",
    "    mes_extenso = meses[int(mes) - 1]\n",
    "    print(f\"Você nasceu em {dia} de {mes_extenso} de {ano}.\")\n",
    "\n",
    "data_nascimento()\n"
   ]
  },
  {
   "cell_type": "code",
   "execution_count": null,
   "metadata": {},
   "outputs": [],
   "source": [
    "def substituir_vogais():\n",
    "    frase = input(\"Digite uma frase: \")\n",
    "    vogais = \"aeiouAEIOU\"\n",
    "    nova_frase = ''.join(['*' if letra in vogais else letra for letra in frase])\n",
    "    print(f\"Frase modificada: {nova_frase}\")\n",
    "\n",
    "substituir_vogais()\n"
   ]
  },
  {
   "cell_type": "code",
   "execution_count": null,
   "metadata": {},
   "outputs": [],
   "source": [
    "def verificar_palindromo():\n",
    "    while True:\n",
    "        frase = input('Digite uma frase (digite \"fim\" para encerrar): ')\n",
    "        if frase.lower() == 'fim':\n",
    "            break\n",
    "        frase_limpa = ''.join(filter(str.isalnum, frase)).lower()\n",
    "        if frase_limpa == frase_limpa[::-1]:\n",
    "            print(f'\"{frase}\" é palíndromo')\n",
    "        else:\n",
    "            print(f'\"{frase}\" não é palíndromo')\n",
    "\n",
    "verificar_palindromo()\n"
   ]
  },
  {
   "cell_type": "code",
   "execution_count": null,
   "metadata": {},
   "outputs": [],
   "source": [
    "import re\n",
    "\n",
    "def validador_senha(senha):\n",
    "    if (len(senha) >= 8 and\n",
    "        re.search(r'[A-Z]', senha) and\n",
    "        re.search(r'[a-z]', senha) and\n",
    "        re.search(r'[0-9]', senha) and\n",
    "        re.search(r'[!@#$%^&*(),.?\":{}|<>]', senha)):\n",
    "        return True\n",
    "    return False\n",
    "\n",
    "\n",
    "senha1 = \"Senha123@\"\n",
    "senha2 = \"senhafraca\"\n",
    "senha3 = \"Senha_fraca\"\n",
    "print(validador_senha(senha1)) \n",
    "print(validador_senha(senha2))  \n",
    "print(validador_senha(senha3))  \n"
   ]
  }
 ],
 "metadata": {
  "language_info": {
   "name": "python"
  }
 },
 "nbformat": 4,
 "nbformat_minor": 2
}
