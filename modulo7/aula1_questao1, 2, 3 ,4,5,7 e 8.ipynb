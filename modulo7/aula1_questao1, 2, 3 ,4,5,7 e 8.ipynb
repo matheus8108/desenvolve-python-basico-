{
 "cells": [
  {
   "cell_type": "code",
   "execution_count": 11,
   "metadata": {},
   "outputs": [
    {
     "name": "stdout",
     "output_type": "stream",
     "text": [
      "m\n",
      "ma\n",
      "mat\n",
      "math\n",
      "mathe\n",
      "matheu\n",
      "matheus\n"
     ]
    }
   ],
   "source": [
    "#questão 1\n",
    "\n",
    "nome=input(\"Diga seu nome:\")\n",
    "lista=[]\n",
    "for n in range(1,len(nome)+1) : \n",
    "   print(nome[:n])\n"
   ]
  },
  {
   "cell_type": "code",
   "execution_count": 10,
   "metadata": {},
   "outputs": [
    {
     "name": "stdout",
     "output_type": "stream",
     "text": [
      "Bem vindo matheus  felipe\n"
     ]
    }
   ],
   "source": [
    "#questão 2\n",
    "\n",
    "nome=input(\"Digite seu primeiro nome:\")\n",
    "sobrenome=input(\"Digite seu sobrenome:\")\n",
    "\n",
    "print(\"Bem vindo\",nome,\"\",sobrenome)"
   ]
  },
  {
   "cell_type": "code",
   "execution_count": null,
   "metadata": {},
   "outputs": [],
   "source": [
    "#questão 3\n",
    "\n",
    "frase=input(\"Digite sua frase\":)\n",
    "espaços.count=frase"
   ]
  },
  {
   "cell_type": "code",
   "execution_count": null,
   "metadata": {},
   "outputs": [],
   "source": [
    "numero=input(\"Digite o numero:\")\n",
    "\n",
    "if len(numero) == 8:\n",
    "    numero=\"9\"+numero\n",
    "if len(numero) == 9 and numero[0] != \"9\":\n",
    "    numero = \"9\" + numero[1:]\n",
    "\n",
    "print(numero)    \n",
    "    "
   ]
  }
 ],
 "metadata": {
  "kernelspec": {
   "display_name": "Python 3",
   "language": "python",
   "name": "python3"
  },
  "language_info": {
   "codemirror_mode": {
    "name": "ipython",
    "version": 3
   },
   "file_extension": ".py",
   "mimetype": "text/x-python",
   "name": "python",
   "nbconvert_exporter": "python",
   "pygments_lexer": "ipython3",
   "version": "3.12.3"
  }
 },
 "nbformat": 4,
 "nbformat_minor": 2
}
